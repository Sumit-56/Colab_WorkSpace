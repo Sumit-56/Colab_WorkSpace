{
  "nbformat": 4,
  "nbformat_minor": 0,
  "metadata": {
    "colab": {
      "private_outputs": true,
      "provenance": [],
      "toc_visible": true,
      "mount_file_id": "1Tsc8kTnNMDGU_iCn8BRkO3QT5quyLRCl",
      "authorship_tag": "ABX9TyOHjID3fRg0RqscG3ZG1HrF",
      "include_colab_link": true
    },
    "kernelspec": {
      "name": "python3",
      "display_name": "Python 3"
    },
    "language_info": {
      "name": "python"
    }
  },
  "cells": [
    {
      "cell_type": "markdown",
      "metadata": {
        "id": "view-in-github",
        "colab_type": "text"
      },
      "source": [
        "<a href=\"https://colab.research.google.com/github/Sumit-56/Colab_WorkSpace/blob/main/Complete_TSA_and_Forecasting.ipynb\" target=\"_parent\"><img src=\"https://colab.research.google.com/assets/colab-badge.svg\" alt=\"Open In Colab\"/></a>"
      ]
    },
    {
      "cell_type": "markdown",
      "source": [
        "#What is Time Series Data?\n",
        "Time series data is a collection of observations recorded over a sequence of time. This data is typically ordered chronologically and can be used to analyze trends, seasonality, and other patterns that evolve over time. Examples include stock prices, weather data, and website traffic."
      ],
      "metadata": {
        "id": "BJ06kr6U3LUN"
      }
    },
    {
      "cell_type": "code",
      "execution_count": null,
      "metadata": {
        "id": "006r3SX62ZIK"
      },
      "outputs": [],
      "source": [
        "#import library\n",
        "import pandas as pd\n",
        "import matplotlib.pyplot as plt"
      ]
    },
    {
      "cell_type": "code",
      "source": [
        "#load the data\n",
        "df = pd.read_csv('/content/drive/MyDrive/Colab Notebooks/bitcoin_price.csv')\n",
        "df['Date'] = pd.to_datetime(df['Date'], format=\"%Y-%m-%d\")\n",
        "df.set_index('Date', inplace=True)\n",
        "df.head()"
      ],
      "metadata": {
        "id": "VpRSqz7T6zP0"
      },
      "execution_count": null,
      "outputs": []
    },
    {
      "cell_type": "markdown",
      "source": [
        "#Time series index\n",
        " we need to convert the Date column to a datetime format and then set it as the index of the DataFrame."
      ],
      "metadata": {
        "id": "OFeW0FOA7Pb6"
      }
    },
    {
      "cell_type": "code",
      "source": [
        "#convert 'date' to a datetime and set as index\n",
        "df['Date'] = pd.to_datetime(df['Date'], format=\"%Y-%m-%d\")\n",
        "df.set_index('Date', inplace=True)\n",
        "df.head()"
      ],
      "metadata": {
        "id": "aMfP1INU6-NH"
      },
      "execution_count": null,
      "outputs": []
    },
    {
      "cell_type": "code",
      "source": [
        "#load the data and set the index\n",
        "df1 = pd.read_csv('/content/drive/MyDrive/Colab Notebooks/bitcoin_price.csv', index_col='Date', parse_dates=True)\n",
        "df1.index"
      ],
      "metadata": {
        "id": "XK1jsWQh_Y_Y"
      },
      "execution_count": null,
      "outputs": []
    },
    {
      "cell_type": "markdown",
      "source": [
        "# Data Resampling\n",
        "Upsample: Increase the frequency (e.g., from daily to hourly). This often involves creating new data points through interpolation.\n",
        "Downsample: Decrease the frequency (e.g., from daily to monthly or yearly). This typically involves aggregating data over the new, lower frequency intervals (e.g., calculating the mean, sum, or other statistics for each month).\n",
        "Resampling is a crucial step in time series analysis because it allows you to analyze data at different granularities, align time series with different frequencies, and prepare data for various modeling techniques. In your notebook, you used df.resample('M').mean() to downsample your daily Bitcoin price data to a monthly frequency and calculate the mean for each month"
      ],
      "metadata": {
        "id": "A3i5hvAfCqYs"
      }
    },
    {
      "cell_type": "code",
      "source": [
        "# Resampling to monthly frequency and calculate the mean closing price\n",
        "df.resample('ME').mean()"
      ],
      "metadata": {
        "id": "CBt-OuVxAxK6"
      },
      "execution_count": null,
      "outputs": []
    },
    {
      "cell_type": "markdown",
      "source": [
        "#Exploring data"
      ],
      "metadata": {
        "id": "apdqVRBYoWJp"
      }
    },
    {
      "cell_type": "code",
      "source": [
        "# 7 day rolling average of closing price\n",
        "df['7_day_rolling'] = df['Close'].rolling(window =7).mean()\n",
        "df[['Close', '7_day_rolling']].loc['2023'].plot()\n",
        "plt.show()"
      ],
      "metadata": {
        "id": "8RN5U_pRCV9Q"
      },
      "execution_count": null,
      "outputs": []
    },
    {
      "cell_type": "code",
      "source": [
        "#fins out the highest avg month\n",
        "df.resample('M').mean()['Close'].idxmax()"
      ],
      "metadata": {
        "id": "p8CdTA5WoigQ"
      },
      "execution_count": null,
      "outputs": []
    },
    {
      "cell_type": "code",
      "source": [
        "#calculate daily return\n",
        "df['daily_returns'] = df['Close'].pct_change()*100"
      ],
      "metadata": {
        "id": "1jMBB1NZrOs0"
      },
      "execution_count": null,
      "outputs": []
    },
    {
      "cell_type": "code",
      "source": [
        "#days with moret than 10% change in closing price\n",
        "df[df['daily_returns']>10].head(3)"
      ],
      "metadata": {
        "id": "oaGyXeSjrmgu"
      },
      "execution_count": null,
      "outputs": []
    },
    {
      "cell_type": "markdown",
      "source": [
        "#Data  Visualization"
      ],
      "metadata": {
        "id": "VnMgvoXcsd5b"
      }
    },
    {
      "cell_type": "code",
      "source": [
        "#daily closing priceplot\n",
        "df['Close'].plot(title=\"Daily Closing Price\")\n",
        "plt.show()\n"
      ],
      "metadata": {
        "id": "sU_DSIdesGh5"
      },
      "execution_count": null,
      "outputs": []
    },
    {
      "cell_type": "code",
      "source": [
        "#plot the yearly volume\n",
        "df.resample('YE').sum().plot()\n",
        "plt.show()"
      ],
      "metadata": {
        "id": "DvtQWqPTspRr"
      },
      "execution_count": null,
      "outputs": []
    },
    {
      "cell_type": "code",
      "source": [
        "#plotting closing price and 30 day rolling volume\n",
        "df['30_day_rolling_vol'] = df['Volume'].rolling(window = 30).mean()\n",
        "df['30_day_rolling_vol'].plot(legend=True)\n",
        "ax = df['Close'].plot(secondary_y=True, legend = True)\n",
        "ax.set_ylabel('Volume')\n",
        "plt.show()"
      ],
      "metadata": {
        "id": "4lFc45MDtw8m"
      },
      "execution_count": null,
      "outputs": []
    },
    {
      "cell_type": "code",
      "source": [
        "#correlation between close and 30 day rolling\n",
        "df33 = df[['Close','30_day_rolling_vol']].corr()"
      ],
      "metadata": {
        "id": "-Rql-uBmuWYd"
      },
      "execution_count": null,
      "outputs": []
    },
    {
      "cell_type": "code",
      "source": [
        "df33.plot()"
      ],
      "metadata": {
        "id": "XtucPc20vFTw"
      },
      "execution_count": null,
      "outputs": []
    },
    {
      "cell_type": "markdown",
      "source": [
        "#Data Manipulation"
      ],
      "metadata": {
        "id": "pfFigiRjvoMR"
      }
    },
    {
      "cell_type": "code",
      "source": [
        "#missing values\n",
        "df.isnull().sum()"
      ],
      "metadata": {
        "id": "lhDbJNJGvdNW"
      },
      "execution_count": null,
      "outputs": []
    },
    {
      "cell_type": "code",
      "source": [
        "#extract time variables\n",
        "df['year'] = df.index.year\n",
        "df['month'] = df.index.month\n",
        "df['day'] = df.index.day\n",
        "df.head()"
      ],
      "metadata": {
        "id": "GfpLtfIvwCKe"
      },
      "execution_count": null,
      "outputs": []
    },
    {
      "cell_type": "code",
      "source": [],
      "metadata": {
        "id": "5ajDTYTZx5ex"
      },
      "execution_count": null,
      "outputs": []
    }
  ]
}